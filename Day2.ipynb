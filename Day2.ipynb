{
 "cells": [
  {
   "cell_type": "markdown",
   "id": "e2f5ea0f",
   "metadata": {},
   "source": [
    "# 판다스(pandas)"
   ]
  },
  {
   "cell_type": "markdown",
   "id": "be21d03f",
   "metadata": {},
   "source": [
    "## 판다스 데이터 구조\n",
    "- dataframe 과 series로 구성된다\n",
    "- 표 형태의 index와 columns로 구성\n",
    "- 각각의 column이 한개의 series이다."
   ]
  },
  {
   "cell_type": "markdown",
   "id": "517013f0",
   "metadata": {},
   "source": [
    "## 판다스 기본 사용법\n",
    "- 데이터 파일 읽기: read_excel(), read_csv()\n",
    "- 데이터 선택하기 : df.loc(), df.iloc()\n",
    "- 인덱스/컬럼 변경하기 : columns/index, reset_index()"
   ]
  },
  {
   "cell_type": "markdown",
   "id": "05e144eb",
   "metadata": {},
   "source": [
    "## 1. pandas 불러오기\n",
    "import 라이브러리 명령을 통해 라이브러리를 불러오며\n",
    "뒤에 as 줄임말 이라는 명령을 통해 줄임말로 간단하게 이름을 변경하여 사용 가능"
   ]
  },
  {
   "cell_type": "code",
   "execution_count": 17,
   "id": "a6761379",
   "metadata": {},
   "outputs": [],
   "source": [
    "#판다스 사용 위해 라이브러리를 불러오기\n",
    "import pandas as pd"
   ]
  },
  {
   "cell_type": "markdown",
   "id": "544e389f",
   "metadata": {},
   "source": [
    "## 2. 데이터 불러오기\n",
    "pd.read_excel('파일경로 + 파일명.xlsx')\n",
    "pd.read_csv('파일경로 + 파일명.csv')\n",
    "\n",
    "### 파일경로\n",
    "- 절대경로 : \"c:/폴더1/폴더2/파일명.확장자\" 처럼 c:부터 지정하는 방법\n",
    "- 상대경로 : \"./폴더3/파일명.확장자\"처럼 현재위치(주피터놑북 파일 위치)를 기준으로 지정하는 방법\n",
    "    (./는 \"현재위치\"라는 의미)\n",
    "    \n",
    "### .head() \n",
    "상단의 데이터를 살펴볼 수 있다.\n",
    "- ex)raw.head(2) >> 상위 2개의 데이터만 볼 수 있다.\n",
    "- .head()는 .head(5)와 동일하다 \n",
    "\n",
    "### .tail()\n",
    "하단의 데이터를 살펴볼 수 있다."
   ]
  },
  {
   "cell_type": "code",
   "execution_count": 3,
   "id": "8f7e1861",
   "metadata": {
    "scrolled": false
   },
   "outputs": [
    {
     "data": {
      "text/html": [
       "<div>\n",
       "<style scoped>\n",
       "    .dataframe tbody tr th:only-of-type {\n",
       "        vertical-align: middle;\n",
       "    }\n",
       "\n",
       "    .dataframe tbody tr th {\n",
       "        vertical-align: top;\n",
       "    }\n",
       "\n",
       "    .dataframe thead th {\n",
       "        text-align: right;\n",
       "    }\n",
       "</style>\n",
       "<table border=\"1\" class=\"dataframe\">\n",
       "  <thead>\n",
       "    <tr style=\"text-align: right;\">\n",
       "      <th></th>\n",
       "      <th>번호</th>\n",
       "      <th>국어</th>\n",
       "      <th>영어</th>\n",
       "      <th>수학</th>\n",
       "    </tr>\n",
       "  </thead>\n",
       "  <tbody>\n",
       "    <tr>\n",
       "      <th>0</th>\n",
       "      <td>1번</td>\n",
       "      <td>70</td>\n",
       "      <td>80</td>\n",
       "      <td>75</td>\n",
       "    </tr>\n",
       "    <tr>\n",
       "      <th>1</th>\n",
       "      <td>2번</td>\n",
       "      <td>68</td>\n",
       "      <td>95</td>\n",
       "      <td>55</td>\n",
       "    </tr>\n",
       "    <tr>\n",
       "      <th>2</th>\n",
       "      <td>3번</td>\n",
       "      <td>90</td>\n",
       "      <td>100</td>\n",
       "      <td>95</td>\n",
       "    </tr>\n",
       "  </tbody>\n",
       "</table>\n",
       "</div>"
      ],
      "text/plain": [
       "   번호  국어   영어  수학\n",
       "0  1번  70   80  75\n",
       "1  2번  68   95  55\n",
       "2  3번  90  100  95"
      ]
     },
     "execution_count": 3,
     "metadata": {},
     "output_type": "execute_result"
    }
   ],
   "source": [
    "# read_excel\n",
    "# 엑셀파일에서 불러온 데이터프레임 자료를 raw라는 이름으로 지정합니다.\n",
    "fpath = './data/exam.xlsx'\n",
    "raw = pd.read_excel(fpath)\n",
    "raw.head()\n",
    "raw.tail()"
   ]
  },
  {
   "cell_type": "markdown",
   "id": "08990261",
   "metadata": {},
   "source": [
    "### .info()\n",
    "인덱스와 컬럼의 데이터 구조(개수/종류)를 확인할 수 있다.\n",
    "- pandas에서 데이터 타입이 object >> 문자열(str)이다."
   ]
  },
  {
   "cell_type": "code",
   "execution_count": 18,
   "id": "84d2eadf",
   "metadata": {},
   "outputs": [
    {
     "name": "stdout",
     "output_type": "stream",
     "text": [
      "<class 'pandas.core.frame.DataFrame'>\n",
      "RangeIndex: 3 entries, 0 to 2\n",
      "Data columns (total 4 columns):\n",
      " #   Column  Non-Null Count  Dtype \n",
      "---  ------  --------------  ----- \n",
      " 0   번호      3 non-null      object\n",
      " 1   국어      3 non-null      int64 \n",
      " 2   영어      3 non-null      int64 \n",
      " 3   수학      3 non-null      int64 \n",
      "dtypes: int64(3), object(1)\n",
      "memory usage: 224.0+ bytes\n"
     ]
    }
   ],
   "source": [
    "raw.info()"
   ]
  },
  {
   "cell_type": "markdown",
   "id": "1be79a77",
   "metadata": {},
   "source": [
    "### .describe()\n",
    "수치형 데이터(int, float)가 들어있는 컬럼의 \n",
    "기초통계랑(개수, 평균, 표준편차 등)만을 볼 수 있다.\n"
   ]
  },
  {
   "cell_type": "code",
   "execution_count": 19,
   "id": "6b844502",
   "metadata": {},
   "outputs": [
    {
     "data": {
      "text/html": [
       "<div>\n",
       "<style scoped>\n",
       "    .dataframe tbody tr th:only-of-type {\n",
       "        vertical-align: middle;\n",
       "    }\n",
       "\n",
       "    .dataframe tbody tr th {\n",
       "        vertical-align: top;\n",
       "    }\n",
       "\n",
       "    .dataframe thead th {\n",
       "        text-align: right;\n",
       "    }\n",
       "</style>\n",
       "<table border=\"1\" class=\"dataframe\">\n",
       "  <thead>\n",
       "    <tr style=\"text-align: right;\">\n",
       "      <th></th>\n",
       "      <th>국어</th>\n",
       "      <th>영어</th>\n",
       "      <th>수학</th>\n",
       "    </tr>\n",
       "  </thead>\n",
       "  <tbody>\n",
       "    <tr>\n",
       "      <th>count</th>\n",
       "      <td>3.000000</td>\n",
       "      <td>3.000000</td>\n",
       "      <td>3.0</td>\n",
       "    </tr>\n",
       "    <tr>\n",
       "      <th>mean</th>\n",
       "      <td>76.000000</td>\n",
       "      <td>91.666667</td>\n",
       "      <td>75.0</td>\n",
       "    </tr>\n",
       "    <tr>\n",
       "      <th>std</th>\n",
       "      <td>12.165525</td>\n",
       "      <td>10.408330</td>\n",
       "      <td>20.0</td>\n",
       "    </tr>\n",
       "    <tr>\n",
       "      <th>min</th>\n",
       "      <td>68.000000</td>\n",
       "      <td>80.000000</td>\n",
       "      <td>55.0</td>\n",
       "    </tr>\n",
       "    <tr>\n",
       "      <th>25%</th>\n",
       "      <td>69.000000</td>\n",
       "      <td>87.500000</td>\n",
       "      <td>65.0</td>\n",
       "    </tr>\n",
       "    <tr>\n",
       "      <th>50%</th>\n",
       "      <td>70.000000</td>\n",
       "      <td>95.000000</td>\n",
       "      <td>75.0</td>\n",
       "    </tr>\n",
       "    <tr>\n",
       "      <th>75%</th>\n",
       "      <td>80.000000</td>\n",
       "      <td>97.500000</td>\n",
       "      <td>85.0</td>\n",
       "    </tr>\n",
       "    <tr>\n",
       "      <th>max</th>\n",
       "      <td>90.000000</td>\n",
       "      <td>100.000000</td>\n",
       "      <td>95.0</td>\n",
       "    </tr>\n",
       "  </tbody>\n",
       "</table>\n",
       "</div>"
      ],
      "text/plain": [
       "              국어          영어    수학\n",
       "count   3.000000    3.000000   3.0\n",
       "mean   76.000000   91.666667  75.0\n",
       "std    12.165525   10.408330  20.0\n",
       "min    68.000000   80.000000  55.0\n",
       "25%    69.000000   87.500000  65.0\n",
       "50%    70.000000   95.000000  75.0\n",
       "75%    80.000000   97.500000  85.0\n",
       "max    90.000000  100.000000  95.0"
      ]
     },
     "execution_count": 19,
     "metadata": {},
     "output_type": "execute_result"
    }
   ],
   "source": [
    "raw.describe()"
   ]
  },
  {
   "cell_type": "markdown",
   "id": "6547756f",
   "metadata": {},
   "source": [
    "### .set_index\n",
    "컬럼을 인덱스로 전환할 수 있다.\n",
    "- ex)raw.set_index(\"번호\") >> 번호가 인덱스로 전환된다.\n",
    "- 다시 번호를 칼럼으로 전환하고 싶다면 raw만 입력하면 원상복귀된다.\n",
    "\n",
    "원본데이터를 바꾸고 싶다면\n",
    "- pandas는 원본데이터 변형하지 않는 것이 기본이다.\n",
    "- raw = raw.set_index(\"번호\")로 변형해야 한다."
   ]
  },
  {
   "cell_type": "code",
   "execution_count": 20,
   "id": "49aed3fa",
   "metadata": {
    "scrolled": true
   },
   "outputs": [
    {
     "data": {
      "text/html": [
       "<div>\n",
       "<style scoped>\n",
       "    .dataframe tbody tr th:only-of-type {\n",
       "        vertical-align: middle;\n",
       "    }\n",
       "\n",
       "    .dataframe tbody tr th {\n",
       "        vertical-align: top;\n",
       "    }\n",
       "\n",
       "    .dataframe thead th {\n",
       "        text-align: right;\n",
       "    }\n",
       "</style>\n",
       "<table border=\"1\" class=\"dataframe\">\n",
       "  <thead>\n",
       "    <tr style=\"text-align: right;\">\n",
       "      <th></th>\n",
       "      <th>국어</th>\n",
       "      <th>영어</th>\n",
       "      <th>수학</th>\n",
       "    </tr>\n",
       "    <tr>\n",
       "      <th>번호</th>\n",
       "      <th></th>\n",
       "      <th></th>\n",
       "      <th></th>\n",
       "    </tr>\n",
       "  </thead>\n",
       "  <tbody>\n",
       "    <tr>\n",
       "      <th>1번</th>\n",
       "      <td>70</td>\n",
       "      <td>80</td>\n",
       "      <td>75</td>\n",
       "    </tr>\n",
       "    <tr>\n",
       "      <th>2번</th>\n",
       "      <td>68</td>\n",
       "      <td>95</td>\n",
       "      <td>55</td>\n",
       "    </tr>\n",
       "    <tr>\n",
       "      <th>3번</th>\n",
       "      <td>90</td>\n",
       "      <td>100</td>\n",
       "      <td>95</td>\n",
       "    </tr>\n",
       "  </tbody>\n",
       "</table>\n",
       "</div>"
      ],
      "text/plain": [
       "    국어   영어  수학\n",
       "번호             \n",
       "1번  70   80  75\n",
       "2번  68   95  55\n",
       "3번  90  100  95"
      ]
     },
     "execution_count": 20,
     "metadata": {},
     "output_type": "execute_result"
    }
   ],
   "source": [
    "raw.set_index(\"번호\")"
   ]
  },
  {
   "cell_type": "code",
   "execution_count": 21,
   "id": "600cbfc8",
   "metadata": {},
   "outputs": [
    {
     "data": {
      "text/html": [
       "<div>\n",
       "<style scoped>\n",
       "    .dataframe tbody tr th:only-of-type {\n",
       "        vertical-align: middle;\n",
       "    }\n",
       "\n",
       "    .dataframe tbody tr th {\n",
       "        vertical-align: top;\n",
       "    }\n",
       "\n",
       "    .dataframe thead th {\n",
       "        text-align: right;\n",
       "    }\n",
       "</style>\n",
       "<table border=\"1\" class=\"dataframe\">\n",
       "  <thead>\n",
       "    <tr style=\"text-align: right;\">\n",
       "      <th></th>\n",
       "      <th>번호</th>\n",
       "      <th>국어</th>\n",
       "      <th>영어</th>\n",
       "      <th>수학</th>\n",
       "    </tr>\n",
       "  </thead>\n",
       "  <tbody>\n",
       "    <tr>\n",
       "      <th>0</th>\n",
       "      <td>1번</td>\n",
       "      <td>70</td>\n",
       "      <td>80</td>\n",
       "      <td>75</td>\n",
       "    </tr>\n",
       "    <tr>\n",
       "      <th>1</th>\n",
       "      <td>2번</td>\n",
       "      <td>68</td>\n",
       "      <td>95</td>\n",
       "      <td>55</td>\n",
       "    </tr>\n",
       "    <tr>\n",
       "      <th>2</th>\n",
       "      <td>3번</td>\n",
       "      <td>90</td>\n",
       "      <td>100</td>\n",
       "      <td>95</td>\n",
       "    </tr>\n",
       "  </tbody>\n",
       "</table>\n",
       "</div>"
      ],
      "text/plain": [
       "   번호  국어   영어  수학\n",
       "0  1번  70   80  75\n",
       "1  2번  68   95  55\n",
       "2  3번  90  100  95"
      ]
     },
     "execution_count": 21,
     "metadata": {},
     "output_type": "execute_result"
    }
   ],
   "source": [
    "raw"
   ]
  },
  {
   "cell_type": "code",
   "execution_count": 31,
   "id": "21847dec",
   "metadata": {},
   "outputs": [
    {
     "data": {
      "text/html": [
       "<div>\n",
       "<style scoped>\n",
       "    .dataframe tbody tr th:only-of-type {\n",
       "        vertical-align: middle;\n",
       "    }\n",
       "\n",
       "    .dataframe tbody tr th {\n",
       "        vertical-align: top;\n",
       "    }\n",
       "\n",
       "    .dataframe thead th {\n",
       "        text-align: right;\n",
       "    }\n",
       "</style>\n",
       "<table border=\"1\" class=\"dataframe\">\n",
       "  <thead>\n",
       "    <tr style=\"text-align: right;\">\n",
       "      <th></th>\n",
       "      <th>국어</th>\n",
       "      <th>영어</th>\n",
       "      <th>수학</th>\n",
       "    </tr>\n",
       "    <tr>\n",
       "      <th>번호</th>\n",
       "      <th></th>\n",
       "      <th></th>\n",
       "      <th></th>\n",
       "    </tr>\n",
       "  </thead>\n",
       "  <tbody>\n",
       "    <tr>\n",
       "      <th>1번</th>\n",
       "      <td>70</td>\n",
       "      <td>80</td>\n",
       "      <td>75</td>\n",
       "    </tr>\n",
       "    <tr>\n",
       "      <th>2번</th>\n",
       "      <td>68</td>\n",
       "      <td>95</td>\n",
       "      <td>55</td>\n",
       "    </tr>\n",
       "    <tr>\n",
       "      <th>3번</th>\n",
       "      <td>90</td>\n",
       "      <td>100</td>\n",
       "      <td>95</td>\n",
       "    </tr>\n",
       "  </tbody>\n",
       "</table>\n",
       "</div>"
      ],
      "text/plain": [
       "    국어   영어  수학\n",
       "번호             \n",
       "1번  70   80  75\n",
       "2번  68   95  55\n",
       "3번  90  100  95"
      ]
     },
     "execution_count": 31,
     "metadata": {},
     "output_type": "execute_result"
    }
   ],
   "source": [
    "raw = raw.set_index(\"번호\")\n",
    "raw"
   ]
  },
  {
   "cell_type": "markdown",
   "id": "aaed946e",
   "metadata": {},
   "source": [
    "### , index_col\n",
    "엑셀파일을 읽어올 때, 미리 인덱스 지정 가능\n",
    "#### pd.read_excel('파일명',index_col = '칼럼정보')\n",
    "- 컬럼정보에는 컬럼번호(0부터 시작) or 컬럼이름 지정 가능하다\n",
    "- ex)fpath = './data/exam.xlsx'\n",
    "- raw = pd.read_excel(fpath,index_col = '번호')"
   ]
  },
  {
   "cell_type": "code",
   "execution_count": 28,
   "id": "10967812",
   "metadata": {
    "scrolled": false
   },
   "outputs": [
    {
     "data": {
      "text/html": [
       "<div>\n",
       "<style scoped>\n",
       "    .dataframe tbody tr th:only-of-type {\n",
       "        vertical-align: middle;\n",
       "    }\n",
       "\n",
       "    .dataframe tbody tr th {\n",
       "        vertical-align: top;\n",
       "    }\n",
       "\n",
       "    .dataframe thead th {\n",
       "        text-align: right;\n",
       "    }\n",
       "</style>\n",
       "<table border=\"1\" class=\"dataframe\">\n",
       "  <thead>\n",
       "    <tr style=\"text-align: right;\">\n",
       "      <th></th>\n",
       "      <th>국어</th>\n",
       "      <th>영어</th>\n",
       "      <th>수학</th>\n",
       "    </tr>\n",
       "    <tr>\n",
       "      <th>번호</th>\n",
       "      <th></th>\n",
       "      <th></th>\n",
       "      <th></th>\n",
       "    </tr>\n",
       "  </thead>\n",
       "  <tbody>\n",
       "    <tr>\n",
       "      <th>1번</th>\n",
       "      <td>70</td>\n",
       "      <td>80</td>\n",
       "      <td>75</td>\n",
       "    </tr>\n",
       "    <tr>\n",
       "      <th>2번</th>\n",
       "      <td>68</td>\n",
       "      <td>95</td>\n",
       "      <td>55</td>\n",
       "    </tr>\n",
       "    <tr>\n",
       "      <th>3번</th>\n",
       "      <td>90</td>\n",
       "      <td>100</td>\n",
       "      <td>95</td>\n",
       "    </tr>\n",
       "  </tbody>\n",
       "</table>\n",
       "</div>"
      ],
      "text/plain": [
       "    국어   영어  수학\n",
       "번호             \n",
       "1번  70   80  75\n",
       "2번  68   95  55\n",
       "3번  90  100  95"
      ]
     },
     "execution_count": 28,
     "metadata": {},
     "output_type": "execute_result"
    }
   ],
   "source": [
    "raw = pd.read_excel(fpath,index_col = '번호')\n",
    "raw"
   ]
  },
  {
   "cell_type": "markdown",
   "id": "bfd8a9dc",
   "metadata": {},
   "source": [
    "## 데이터 선택하기"
   ]
  },
  {
   "cell_type": "markdown",
   "id": "7f82c4e1",
   "metadata": {},
   "source": [
    "### 3.1 개별 데이터 선택하기\n",
    "\n",
    "#### df.iloc[로우, 컬럼] : 인덱스 번호로 선택하기\n",
    "- ex) df.iloc[1,2]\n",
    "\n",
    "#### df.loc[로우, 컬럼] : 이름으로 선택하기\n",
    "- ex) df.loc['2번','수학']"
   ]
  },
  {
   "cell_type": "code",
   "execution_count": 25,
   "id": "07c51091",
   "metadata": {},
   "outputs": [
    {
     "data": {
      "text/html": [
       "<div>\n",
       "<style scoped>\n",
       "    .dataframe tbody tr th:only-of-type {\n",
       "        vertical-align: middle;\n",
       "    }\n",
       "\n",
       "    .dataframe tbody tr th {\n",
       "        vertical-align: top;\n",
       "    }\n",
       "\n",
       "    .dataframe thead th {\n",
       "        text-align: right;\n",
       "    }\n",
       "</style>\n",
       "<table border=\"1\" class=\"dataframe\">\n",
       "  <thead>\n",
       "    <tr style=\"text-align: right;\">\n",
       "      <th></th>\n",
       "      <th>번호</th>\n",
       "      <th>국어</th>\n",
       "      <th>영어</th>\n",
       "      <th>수학</th>\n",
       "    </tr>\n",
       "  </thead>\n",
       "  <tbody>\n",
       "    <tr>\n",
       "      <th>0</th>\n",
       "      <td>1번</td>\n",
       "      <td>70</td>\n",
       "      <td>80</td>\n",
       "      <td>75</td>\n",
       "    </tr>\n",
       "    <tr>\n",
       "      <th>1</th>\n",
       "      <td>2번</td>\n",
       "      <td>68</td>\n",
       "      <td>95</td>\n",
       "      <td>55</td>\n",
       "    </tr>\n",
       "    <tr>\n",
       "      <th>2</th>\n",
       "      <td>3번</td>\n",
       "      <td>90</td>\n",
       "      <td>100</td>\n",
       "      <td>95</td>\n",
       "    </tr>\n",
       "  </tbody>\n",
       "</table>\n",
       "</div>"
      ],
      "text/plain": [
       "   번호  국어   영어  수학\n",
       "0  1번  70   80  75\n",
       "1  2번  68   95  55\n",
       "2  3번  90  100  95"
      ]
     },
     "execution_count": 25,
     "metadata": {},
     "output_type": "execute_result"
    }
   ],
   "source": [
    "raw"
   ]
  },
  {
   "cell_type": "code",
   "execution_count": 24,
   "id": "d1187ec3",
   "metadata": {},
   "outputs": [
    {
     "data": {
      "text/plain": [
       "95"
      ]
     },
     "execution_count": 24,
     "metadata": {},
     "output_type": "execute_result"
    }
   ],
   "source": [
    "#iloc[행번호, 열번호]를 통해 특정 행, 열 데이터를 선택 가능\n",
    "#1,2\n",
    "\n",
    "raw.iloc[1,2] #파이썬은 무조건 0부터 시작!"
   ]
  },
  {
   "cell_type": "code",
   "execution_count": 29,
   "id": "cc0e6925",
   "metadata": {},
   "outputs": [
    {
     "data": {
      "text/plain": [
       "75"
      ]
     },
     "execution_count": 29,
     "metadata": {},
     "output_type": "execute_result"
    }
   ],
   "source": [
    "#loc[행번호, 열번호]를 통해 특정 행, 열 데이터를 선택할 수 있습니다.\n",
    "#행/열 이름으로 선택하기\n",
    "\n",
    "raw.loc['1번', '수학']"
   ]
  },
  {
   "cell_type": "code",
   "execution_count": 30,
   "id": "a87ad048",
   "metadata": {
    "scrolled": true
   },
   "outputs": [
    {
     "name": "stdout",
     "output_type": "stream",
     "text": [
      "70\n",
      "70\n"
     ]
    }
   ],
   "source": [
    "# 실습) 1번 국어점수 선택하기\n",
    "print(raw.loc['1번', '국어'])\n",
    "print(raw.iloc[0,0])"
   ]
  },
  {
   "cell_type": "markdown",
   "id": "da82f02f",
   "metadata": {},
   "source": [
    "###  3.2 복수의 셀을 선택할 경우\n",
    "\n",
    "#### df.iloc[인덱스 번호, 컬럼번호]\n",
    "#### df.loc[인덱스명, 컬럼명]\n",
    "\n",
    "##### 인덱스/컬럼정보에 \n",
    "- [조건1, 조건2, 조건3...] 리스트 형태로 여러개 입력\n",
    "- 시작:종료 형태로 범위 지정\n"
   ]
  },
  {
   "cell_type": "code",
   "execution_count": 32,
   "id": "4eb41164",
   "metadata": {},
   "outputs": [
    {
     "data": {
      "text/html": [
       "<div>\n",
       "<style scoped>\n",
       "    .dataframe tbody tr th:only-of-type {\n",
       "        vertical-align: middle;\n",
       "    }\n",
       "\n",
       "    .dataframe tbody tr th {\n",
       "        vertical-align: top;\n",
       "    }\n",
       "\n",
       "    .dataframe thead th {\n",
       "        text-align: right;\n",
       "    }\n",
       "</style>\n",
       "<table border=\"1\" class=\"dataframe\">\n",
       "  <thead>\n",
       "    <tr style=\"text-align: right;\">\n",
       "      <th></th>\n",
       "      <th>국어</th>\n",
       "      <th>영어</th>\n",
       "      <th>수학</th>\n",
       "    </tr>\n",
       "    <tr>\n",
       "      <th>번호</th>\n",
       "      <th></th>\n",
       "      <th></th>\n",
       "      <th></th>\n",
       "    </tr>\n",
       "  </thead>\n",
       "  <tbody>\n",
       "    <tr>\n",
       "      <th>1번</th>\n",
       "      <td>70</td>\n",
       "      <td>80</td>\n",
       "      <td>75</td>\n",
       "    </tr>\n",
       "    <tr>\n",
       "      <th>2번</th>\n",
       "      <td>68</td>\n",
       "      <td>95</td>\n",
       "      <td>55</td>\n",
       "    </tr>\n",
       "    <tr>\n",
       "      <th>3번</th>\n",
       "      <td>90</td>\n",
       "      <td>100</td>\n",
       "      <td>95</td>\n",
       "    </tr>\n",
       "  </tbody>\n",
       "</table>\n",
       "</div>"
      ],
      "text/plain": [
       "    국어   영어  수학\n",
       "번호             \n",
       "1번  70   80  75\n",
       "2번  68   95  55\n",
       "3번  90  100  95"
      ]
     },
     "execution_count": 32,
     "metadata": {},
     "output_type": "execute_result"
    }
   ],
   "source": [
    "raw = pd.read_excel(fpath,index_col = '번호')\n",
    "raw"
   ]
  },
  {
   "cell_type": "code",
   "execution_count": 45,
   "id": "7743377a",
   "metadata": {
    "scrolled": true
   },
   "outputs": [
    {
     "data": {
      "text/plain": [
       "국어    70\n",
       "Name: 1번, dtype: int64"
      ]
     },
     "execution_count": 45,
     "metadata": {},
     "output_type": "execute_result"
    }
   ],
   "source": [
    "#리스트 형태\n",
    "#1번 학생의 국어/영어 점수 조회\n",
    "\n",
    "raw.loc['1번',['국어','영어']]"
   ]
  },
  {
   "cell_type": "code",
   "execution_count": 46,
   "id": "e3d6cd6a",
   "metadata": {},
   "outputs": [
    {
     "data": {
      "text/plain": [
       "국어    70\n",
       "Name: 1번, dtype: int64"
      ]
     },
     "execution_count": 46,
     "metadata": {},
     "output_type": "execute_result"
    }
   ],
   "source": [
    "raw.iloc[0,0:1]"
   ]
  },
  {
   "cell_type": "code",
   "execution_count": 35,
   "id": "4a2c4f67",
   "metadata": {
    "scrolled": true
   },
   "outputs": [
    {
     "data": {
      "text/plain": [
       "번호\n",
       "1번    75\n",
       "2번    55\n",
       "Name: 수학, dtype: int64"
      ]
     },
     "execution_count": 35,
     "metadata": {},
     "output_type": "execute_result"
    }
   ],
   "source": [
    "#1번, 2번 학생의 수학점수 조회\n",
    "raw.loc[['1번','2번'],'수학']"
   ]
  },
  {
   "cell_type": "code",
   "execution_count": 47,
   "id": "18acd981",
   "metadata": {},
   "outputs": [
    {
     "data": {
      "text/plain": [
       "번호\n",
       "1번    75\n",
       "Name: 수학, dtype: int64"
      ]
     },
     "execution_count": 47,
     "metadata": {},
     "output_type": "execute_result"
    }
   ],
   "source": [
    "raw.iloc[0:1,2]"
   ]
  },
  {
   "cell_type": "code",
   "execution_count": 44,
   "id": "5a557e34",
   "metadata": {
    "scrolled": true
   },
   "outputs": [
    {
     "data": {
      "text/plain": [
       "영어    80\n",
       "수학    75\n",
       "Name: 1번, dtype: int64"
      ]
     },
     "execution_count": 44,
     "metadata": {},
     "output_type": "execute_result"
    }
   ],
   "source": [
    "#리스트의 슬라이싱 기호이용\n",
    "#1번학생의 영어~끝까지의 점수조회\n",
    "raw.loc['1번','영어':]"
   ]
  },
  {
   "cell_type": "code",
   "execution_count": 48,
   "id": "47d59dd1",
   "metadata": {},
   "outputs": [
    {
     "data": {
      "text/plain": [
       "영어    80\n",
       "수학    75\n",
       "Name: 1번, dtype: int64"
      ]
     },
     "execution_count": 48,
     "metadata": {},
     "output_type": "execute_result"
    }
   ],
   "source": [
    "raw.iloc[0,1:]"
   ]
  },
  {
   "cell_type": "markdown",
   "id": "0f397998",
   "metadata": {},
   "source": [
    "### 3.2 컬럼 선택하기\n",
    "1.하나의 컬럼을 전체 선택하는 data.loc[:,컬럼명]은 아래와 같이 줄여 사용가능하다.\n",
    "- data.컬럼명\n",
    "- data[:, '수학']\n",
    "\n",
    "2.여러개의 컬럼을 선택하는 경우 원하는 컬럼을 순서대로 리스트로 만들어서 지정\n",
    "- data[['컬럼명1','컬럼명2'....]]"
   ]
  },
  {
   "cell_type": "code",
   "execution_count": 50,
   "id": "bb343f58",
   "metadata": {},
   "outputs": [
    {
     "data": {
      "text/plain": [
       "번호\n",
       "1번    75\n",
       "2번    55\n",
       "3번    95\n",
       "Name: 수학, dtype: int64"
      ]
     },
     "execution_count": 50,
     "metadata": {},
     "output_type": "execute_result"
    }
   ],
   "source": [
    "# loc[인덱스, 컬럼]을 이용해 모든 학생들의 수학점수 선택\n",
    "# = 수학컬럼 선택\n",
    "raw.loc[:,'수학']"
   ]
  },
  {
   "cell_type": "code",
   "execution_count": 52,
   "id": "16757f0e",
   "metadata": {},
   "outputs": [
    {
     "data": {
      "text/plain": [
       "번호\n",
       "1번    75\n",
       "2번    55\n",
       "3번    95\n",
       "Name: 수학, dtype: int64"
      ]
     },
     "execution_count": 52,
     "metadata": {},
     "output_type": "execute_result"
    }
   ],
   "source": [
    "# 데이터프레임[컬럼명]으로 하나의 컬럼을 지정가능\n",
    "# 수학 컬럼 선택하기\n",
    "raw.수학"
   ]
  },
  {
   "cell_type": "code",
   "execution_count": 54,
   "id": "d49a9f9b",
   "metadata": {},
   "outputs": [
    {
     "data": {
      "text/html": [
       "<div>\n",
       "<style scoped>\n",
       "    .dataframe tbody tr th:only-of-type {\n",
       "        vertical-align: middle;\n",
       "    }\n",
       "\n",
       "    .dataframe tbody tr th {\n",
       "        vertical-align: top;\n",
       "    }\n",
       "\n",
       "    .dataframe thead th {\n",
       "        text-align: right;\n",
       "    }\n",
       "</style>\n",
       "<table border=\"1\" class=\"dataframe\">\n",
       "  <thead>\n",
       "    <tr style=\"text-align: right;\">\n",
       "      <th></th>\n",
       "      <th>수학</th>\n",
       "      <th>영어</th>\n",
       "    </tr>\n",
       "    <tr>\n",
       "      <th>번호</th>\n",
       "      <th></th>\n",
       "      <th></th>\n",
       "    </tr>\n",
       "  </thead>\n",
       "  <tbody>\n",
       "    <tr>\n",
       "      <th>1번</th>\n",
       "      <td>75</td>\n",
       "      <td>80</td>\n",
       "    </tr>\n",
       "    <tr>\n",
       "      <th>2번</th>\n",
       "      <td>55</td>\n",
       "      <td>95</td>\n",
       "    </tr>\n",
       "    <tr>\n",
       "      <th>3번</th>\n",
       "      <td>95</td>\n",
       "      <td>100</td>\n",
       "    </tr>\n",
       "  </tbody>\n",
       "</table>\n",
       "</div>"
      ],
      "text/plain": [
       "    수학   영어\n",
       "번호         \n",
       "1번  75   80\n",
       "2번  55   95\n",
       "3번  95  100"
      ]
     },
     "execution_count": 54,
     "metadata": {},
     "output_type": "execute_result"
    }
   ],
   "source": [
    "# 수학과 영어 컬럼 선택\n",
    "raw[['수학','영어']]"
   ]
  },
  {
   "cell_type": "code",
   "execution_count": 57,
   "id": "a767a175",
   "metadata": {},
   "outputs": [
    {
     "data": {
      "text/html": [
       "<div>\n",
       "<style scoped>\n",
       "    .dataframe tbody tr th:only-of-type {\n",
       "        vertical-align: middle;\n",
       "    }\n",
       "\n",
       "    .dataframe tbody tr th {\n",
       "        vertical-align: top;\n",
       "    }\n",
       "\n",
       "    .dataframe thead th {\n",
       "        text-align: right;\n",
       "    }\n",
       "</style>\n",
       "<table border=\"1\" class=\"dataframe\">\n",
       "  <thead>\n",
       "    <tr style=\"text-align: right;\">\n",
       "      <th></th>\n",
       "      <th>수학</th>\n",
       "      <th>영어</th>\n",
       "      <th>국어</th>\n",
       "    </tr>\n",
       "    <tr>\n",
       "      <th>번호</th>\n",
       "      <th></th>\n",
       "      <th></th>\n",
       "      <th></th>\n",
       "    </tr>\n",
       "  </thead>\n",
       "  <tbody>\n",
       "    <tr>\n",
       "      <th>1번</th>\n",
       "      <td>75</td>\n",
       "      <td>80</td>\n",
       "      <td>70</td>\n",
       "    </tr>\n",
       "    <tr>\n",
       "      <th>2번</th>\n",
       "      <td>55</td>\n",
       "      <td>95</td>\n",
       "      <td>68</td>\n",
       "    </tr>\n",
       "    <tr>\n",
       "      <th>3번</th>\n",
       "      <td>95</td>\n",
       "      <td>100</td>\n",
       "      <td>90</td>\n",
       "    </tr>\n",
       "  </tbody>\n",
       "</table>\n",
       "</div>"
      ],
      "text/plain": [
       "    수학   영어  국어\n",
       "번호             \n",
       "1번  75   80  70\n",
       "2번  55   95  68\n",
       "3번  95  100  90"
      ]
     },
     "execution_count": 57,
     "metadata": {},
     "output_type": "execute_result"
    }
   ],
   "source": [
    "#컬럼 순서를 원하는 대로 변경해 선택하기\n",
    "# 수학 영어 국서 순서대로 변경해서 선택하기\n",
    "raw[['수학','영어','국어']]"
   ]
  },
  {
   "cell_type": "markdown",
   "id": "139284a6",
   "metadata": {},
   "source": [
    "### 3.3 특정 조건 데이터 선택하기\n",
    " \n",
    "df[condition] >>> True 인 데이터만 출력된다\n",
    "- condition : True/ False로 구성된 리스트 /시리즈"
   ]
  },
  {
   "cell_type": "code",
   "execution_count": 58,
   "id": "1508360f",
   "metadata": {},
   "outputs": [
    {
     "data": {
      "text/html": [
       "<div>\n",
       "<style scoped>\n",
       "    .dataframe tbody tr th:only-of-type {\n",
       "        vertical-align: middle;\n",
       "    }\n",
       "\n",
       "    .dataframe tbody tr th {\n",
       "        vertical-align: top;\n",
       "    }\n",
       "\n",
       "    .dataframe thead th {\n",
       "        text-align: right;\n",
       "    }\n",
       "</style>\n",
       "<table border=\"1\" class=\"dataframe\">\n",
       "  <thead>\n",
       "    <tr style=\"text-align: right;\">\n",
       "      <th></th>\n",
       "      <th>국어</th>\n",
       "      <th>영어</th>\n",
       "      <th>수학</th>\n",
       "    </tr>\n",
       "    <tr>\n",
       "      <th>번호</th>\n",
       "      <th></th>\n",
       "      <th></th>\n",
       "      <th></th>\n",
       "    </tr>\n",
       "  </thead>\n",
       "  <tbody>\n",
       "    <tr>\n",
       "      <th>1번</th>\n",
       "      <td>70</td>\n",
       "      <td>80</td>\n",
       "      <td>75</td>\n",
       "    </tr>\n",
       "    <tr>\n",
       "      <th>2번</th>\n",
       "      <td>68</td>\n",
       "      <td>95</td>\n",
       "      <td>55</td>\n",
       "    </tr>\n",
       "    <tr>\n",
       "      <th>3번</th>\n",
       "      <td>90</td>\n",
       "      <td>100</td>\n",
       "      <td>95</td>\n",
       "    </tr>\n",
       "  </tbody>\n",
       "</table>\n",
       "</div>"
      ],
      "text/plain": [
       "    국어   영어  수학\n",
       "번호             \n",
       "1번  70   80  75\n",
       "2번  68   95  55\n",
       "3번  90  100  95"
      ]
     },
     "execution_count": 58,
     "metadata": {},
     "output_type": "execute_result"
    }
   ],
   "source": [
    "raw"
   ]
  },
  {
   "cell_type": "code",
   "execution_count": 64,
   "id": "752bb563",
   "metadata": {
    "scrolled": true
   },
   "outputs": [
    {
     "data": {
      "text/plain": [
       "번호\n",
       "1번     True\n",
       "2번     True\n",
       "3번    False\n",
       "Name: 수학, dtype: bool"
      ]
     },
     "execution_count": 64,
     "metadata": {},
     "output_type": "execute_result"
    }
   ],
   "source": [
    "#비교연산자 사용가능\n",
    "# 수학컬럼이 80보다 적은 경우의 데이터만 조회\n",
    "condition = raw['수학']<80\n",
    "condition"
   ]
  },
  {
   "cell_type": "code",
   "execution_count": 63,
   "id": "9ffbcc5c",
   "metadata": {},
   "outputs": [
    {
     "data": {
      "text/html": [
       "<div>\n",
       "<style scoped>\n",
       "    .dataframe tbody tr th:only-of-type {\n",
       "        vertical-align: middle;\n",
       "    }\n",
       "\n",
       "    .dataframe tbody tr th {\n",
       "        vertical-align: top;\n",
       "    }\n",
       "\n",
       "    .dataframe thead th {\n",
       "        text-align: right;\n",
       "    }\n",
       "</style>\n",
       "<table border=\"1\" class=\"dataframe\">\n",
       "  <thead>\n",
       "    <tr style=\"text-align: right;\">\n",
       "      <th></th>\n",
       "      <th>국어</th>\n",
       "      <th>영어</th>\n",
       "      <th>수학</th>\n",
       "    </tr>\n",
       "    <tr>\n",
       "      <th>번호</th>\n",
       "      <th></th>\n",
       "      <th></th>\n",
       "      <th></th>\n",
       "    </tr>\n",
       "  </thead>\n",
       "  <tbody>\n",
       "    <tr>\n",
       "      <th>1번</th>\n",
       "      <td>70</td>\n",
       "      <td>80</td>\n",
       "      <td>75</td>\n",
       "    </tr>\n",
       "    <tr>\n",
       "      <th>2번</th>\n",
       "      <td>68</td>\n",
       "      <td>95</td>\n",
       "      <td>55</td>\n",
       "    </tr>\n",
       "  </tbody>\n",
       "</table>\n",
       "</div>"
      ],
      "text/plain": [
       "    국어  영어  수학\n",
       "번호            \n",
       "1번  70  80  75\n",
       "2번  68  95  55"
      ]
     },
     "execution_count": 63,
     "metadata": {},
     "output_type": "execute_result"
    }
   ],
   "source": [
    "raw[condition]"
   ]
  },
  {
   "cell_type": "code",
   "execution_count": 65,
   "id": "cb75d8a9",
   "metadata": {},
   "outputs": [
    {
     "data": {
      "text/html": [
       "<div>\n",
       "<style scoped>\n",
       "    .dataframe tbody tr th:only-of-type {\n",
       "        vertical-align: middle;\n",
       "    }\n",
       "\n",
       "    .dataframe tbody tr th {\n",
       "        vertical-align: top;\n",
       "    }\n",
       "\n",
       "    .dataframe thead th {\n",
       "        text-align: right;\n",
       "    }\n",
       "</style>\n",
       "<table border=\"1\" class=\"dataframe\">\n",
       "  <thead>\n",
       "    <tr style=\"text-align: right;\">\n",
       "      <th></th>\n",
       "      <th>국어</th>\n",
       "      <th>영어</th>\n",
       "      <th>수학</th>\n",
       "    </tr>\n",
       "    <tr>\n",
       "      <th>번호</th>\n",
       "      <th></th>\n",
       "      <th></th>\n",
       "      <th></th>\n",
       "    </tr>\n",
       "  </thead>\n",
       "  <tbody>\n",
       "    <tr>\n",
       "      <th>1번</th>\n",
       "      <td>70</td>\n",
       "      <td>80</td>\n",
       "      <td>75</td>\n",
       "    </tr>\n",
       "    <tr>\n",
       "      <th>3번</th>\n",
       "      <td>90</td>\n",
       "      <td>100</td>\n",
       "      <td>95</td>\n",
       "    </tr>\n",
       "  </tbody>\n",
       "</table>\n",
       "</div>"
      ],
      "text/plain": [
       "    국어   영어  수학\n",
       "번호             \n",
       "1번  70   80  75\n",
       "3번  90  100  95"
      ]
     },
     "execution_count": 65,
     "metadata": {},
     "output_type": "execute_result"
    }
   ],
   "source": [
    "# 직접 True/False 값을 가진 리스트를 만들어 조건으로 이용해도 좋다(비교연산자x)\n",
    "# 데이터프레임의 행개수와 리스트의 원소개수가 동일해야한다(주의!!)\n",
    "# ex)열의 값이 True False True를 만족하는 열만 추출\n",
    "cond = [True, False, True]\n",
    "raw[cond]"
   ]
  },
  {
   "cell_type": "markdown",
   "id": "7c015c71",
   "metadata": {},
   "source": [
    "### *여러개의 조건 만들기\n",
    " 여러개의 조건으로 선택할 수 있다\n",
    "- 조건을 모두 만족 &\n",
    "- 하나라도 만족 |(shift + \\)\n",
    "    "
   ]
  },
  {
   "cell_type": "code",
   "execution_count": 69,
   "id": "63384645",
   "metadata": {},
   "outputs": [
    {
     "data": {
      "text/html": [
       "<div>\n",
       "<style scoped>\n",
       "    .dataframe tbody tr th:only-of-type {\n",
       "        vertical-align: middle;\n",
       "    }\n",
       "\n",
       "    .dataframe tbody tr th {\n",
       "        vertical-align: top;\n",
       "    }\n",
       "\n",
       "    .dataframe thead th {\n",
       "        text-align: right;\n",
       "    }\n",
       "</style>\n",
       "<table border=\"1\" class=\"dataframe\">\n",
       "  <thead>\n",
       "    <tr style=\"text-align: right;\">\n",
       "      <th></th>\n",
       "      <th>국어</th>\n",
       "      <th>영어</th>\n",
       "      <th>수학</th>\n",
       "    </tr>\n",
       "    <tr>\n",
       "      <th>번호</th>\n",
       "      <th></th>\n",
       "      <th></th>\n",
       "      <th></th>\n",
       "    </tr>\n",
       "  </thead>\n",
       "  <tbody>\n",
       "    <tr>\n",
       "      <th>2번</th>\n",
       "      <td>68</td>\n",
       "      <td>95</td>\n",
       "      <td>55</td>\n",
       "    </tr>\n",
       "    <tr>\n",
       "      <th>3번</th>\n",
       "      <td>90</td>\n",
       "      <td>100</td>\n",
       "      <td>95</td>\n",
       "    </tr>\n",
       "  </tbody>\n",
       "</table>\n",
       "</div>"
      ],
      "text/plain": [
       "    국어   영어  수학\n",
       "번호             \n",
       "2번  68   95  55\n",
       "3번  90  100  95"
      ]
     },
     "execution_count": 69,
     "metadata": {},
     "output_type": "execute_result"
    }
   ],
   "source": [
    "# 영어나 수학 둘 중 하나라도 80 넘는 경우\n",
    "\n",
    "cond1 = raw['영어']>80\n",
    "cond2 = raw['수학']>80\n",
    "cond = cond1 | cond2\n",
    "raw[cond]"
   ]
  },
  {
   "cell_type": "code",
   "execution_count": 74,
   "id": "dd306d1c",
   "metadata": {
    "scrolled": true
   },
   "outputs": [
    {
     "data": {
      "text/html": [
       "<div>\n",
       "<style scoped>\n",
       "    .dataframe tbody tr th:only-of-type {\n",
       "        vertical-align: middle;\n",
       "    }\n",
       "\n",
       "    .dataframe tbody tr th {\n",
       "        vertical-align: top;\n",
       "    }\n",
       "\n",
       "    .dataframe thead th {\n",
       "        text-align: right;\n",
       "    }\n",
       "</style>\n",
       "<table border=\"1\" class=\"dataframe\">\n",
       "  <thead>\n",
       "    <tr style=\"text-align: right;\">\n",
       "      <th></th>\n",
       "      <th>국어</th>\n",
       "      <th>영어</th>\n",
       "      <th>수학</th>\n",
       "    </tr>\n",
       "    <tr>\n",
       "      <th>번호</th>\n",
       "      <th></th>\n",
       "      <th></th>\n",
       "      <th></th>\n",
       "    </tr>\n",
       "  </thead>\n",
       "  <tbody>\n",
       "    <tr>\n",
       "      <th>3번</th>\n",
       "      <td>90</td>\n",
       "      <td>100</td>\n",
       "      <td>95</td>\n",
       "    </tr>\n",
       "  </tbody>\n",
       "</table>\n",
       "</div>"
      ],
      "text/plain": [
       "    국어   영어  수학\n",
       "번호             \n",
       "3번  90  100  95"
      ]
     },
     "execution_count": 74,
     "metadata": {},
     "output_type": "execute_result"
    }
   ],
   "source": [
    "#영어 수학이 모두 80을 넘는 경우\n",
    "cond = cond1&cond2\n",
    "raw[cond]"
   ]
  },
  {
   "cell_type": "code",
   "execution_count": 79,
   "id": "e4fd0998",
   "metadata": {},
   "outputs": [
    {
     "data": {
      "text/html": [
       "<div>\n",
       "<style scoped>\n",
       "    .dataframe tbody tr th:only-of-type {\n",
       "        vertical-align: middle;\n",
       "    }\n",
       "\n",
       "    .dataframe tbody tr th {\n",
       "        vertical-align: top;\n",
       "    }\n",
       "\n",
       "    .dataframe thead th {\n",
       "        text-align: right;\n",
       "    }\n",
       "</style>\n",
       "<table border=\"1\" class=\"dataframe\">\n",
       "  <thead>\n",
       "    <tr style=\"text-align: right;\">\n",
       "      <th></th>\n",
       "      <th>국어</th>\n",
       "      <th>영어</th>\n",
       "      <th>수학</th>\n",
       "    </tr>\n",
       "    <tr>\n",
       "      <th>번호</th>\n",
       "      <th></th>\n",
       "      <th></th>\n",
       "      <th></th>\n",
       "    </tr>\n",
       "  </thead>\n",
       "  <tbody>\n",
       "    <tr>\n",
       "      <th>1번</th>\n",
       "      <td>70</td>\n",
       "      <td>80</td>\n",
       "      <td>75</td>\n",
       "    </tr>\n",
       "  </tbody>\n",
       "</table>\n",
       "</div>"
      ],
      "text/plain": [
       "    국어  영어  수학\n",
       "번호            \n",
       "1번  70  80  75"
      ]
     },
     "execution_count": 79,
     "metadata": {},
     "output_type": "execute_result"
    }
   ],
   "source": [
    "# 영어 70이상, 수학 70이상 90미만인 데이터\n",
    "# cond2 = 70 < raw['수학'] <90 이렇게 조건2개 한번에 불가\n",
    "cond =(raw['영어']> 70) & (raw['수학'] > 70) & (raw['수학'] < 90)\n",
    "raw[cond]"
   ]
  },
  {
   "cell_type": "code",
   "execution_count": 80,
   "id": "7b675716",
   "metadata": {},
   "outputs": [
    {
     "data": {
      "text/html": [
       "<div>\n",
       "<style scoped>\n",
       "    .dataframe tbody tr th:only-of-type {\n",
       "        vertical-align: middle;\n",
       "    }\n",
       "\n",
       "    .dataframe tbody tr th {\n",
       "        vertical-align: top;\n",
       "    }\n",
       "\n",
       "    .dataframe thead th {\n",
       "        text-align: right;\n",
       "    }\n",
       "</style>\n",
       "<table border=\"1\" class=\"dataframe\">\n",
       "  <thead>\n",
       "    <tr style=\"text-align: right;\">\n",
       "      <th></th>\n",
       "      <th>국어</th>\n",
       "      <th>영어</th>\n",
       "      <th>수학</th>\n",
       "    </tr>\n",
       "    <tr>\n",
       "      <th>번호</th>\n",
       "      <th></th>\n",
       "      <th></th>\n",
       "      <th></th>\n",
       "    </tr>\n",
       "  </thead>\n",
       "  <tbody>\n",
       "    <tr>\n",
       "      <th>1번</th>\n",
       "      <td>70</td>\n",
       "      <td>80</td>\n",
       "      <td>75</td>\n",
       "    </tr>\n",
       "  </tbody>\n",
       "</table>\n",
       "</div>"
      ],
      "text/plain": [
       "    국어  영어  수학\n",
       "번호            \n",
       "1번  70  80  75"
      ]
     },
     "execution_count": 80,
     "metadata": {},
     "output_type": "execute_result"
    }
   ],
   "source": [
    "# \\를 사용하여 코드 중간에 줄바꿈 가능\n",
    "cond =(raw['영어']> 70) \\\n",
    "    & (raw['수학'] > 70) \\\n",
    "    & (raw['수학'] < 90)\n",
    "raw[cond]"
   ]
  },
  {
   "cell_type": "code",
   "execution_count": 84,
   "id": "1362c754",
   "metadata": {},
   "outputs": [
    {
     "data": {
      "text/plain": [
       "번호\n",
       "1번     80\n",
       "2번     95\n",
       "3번    100\n",
       "Name: 영어, dtype: int64"
      ]
     },
     "execution_count": 84,
     "metadata": {},
     "output_type": "execute_result"
    }
   ],
   "source": [
    "# 실습) 국어, 영어점수 컬럼 선택\n",
    "kor = raw['국어']\n",
    "eng = raw['영어']"
   ]
  },
  {
   "cell_type": "code",
   "execution_count": 85,
   "id": "beed0f6d",
   "metadata": {},
   "outputs": [
    {
     "data": {
      "text/html": [
       "<div>\n",
       "<style scoped>\n",
       "    .dataframe tbody tr th:only-of-type {\n",
       "        vertical-align: middle;\n",
       "    }\n",
       "\n",
       "    .dataframe tbody tr th {\n",
       "        vertical-align: top;\n",
       "    }\n",
       "\n",
       "    .dataframe thead th {\n",
       "        text-align: right;\n",
       "    }\n",
       "</style>\n",
       "<table border=\"1\" class=\"dataframe\">\n",
       "  <thead>\n",
       "    <tr style=\"text-align: right;\">\n",
       "      <th></th>\n",
       "      <th>국어</th>\n",
       "      <th>영어</th>\n",
       "      <th>수학</th>\n",
       "    </tr>\n",
       "    <tr>\n",
       "      <th>번호</th>\n",
       "      <th></th>\n",
       "      <th></th>\n",
       "      <th></th>\n",
       "    </tr>\n",
       "  </thead>\n",
       "  <tbody>\n",
       "    <tr>\n",
       "      <th>3번</th>\n",
       "      <td>90</td>\n",
       "      <td>100</td>\n",
       "      <td>95</td>\n",
       "    </tr>\n",
       "  </tbody>\n",
       "</table>\n",
       "</div>"
      ],
      "text/plain": [
       "    국어   영어  수학\n",
       "번호             \n",
       "3번  90  100  95"
      ]
     },
     "execution_count": 85,
     "metadata": {},
     "output_type": "execute_result"
    }
   ],
   "source": [
    "# 국어 영어 모두 80 넘는 경우\n",
    "cond = (kor > 80) & (eng > 80)\n",
    "raw[cond]"
   ]
  },
  {
   "cell_type": "code",
   "execution_count": 86,
   "id": "b0f7cae5",
   "metadata": {},
   "outputs": [
    {
     "data": {
      "text/html": [
       "<div>\n",
       "<style scoped>\n",
       "    .dataframe tbody tr th:only-of-type {\n",
       "        vertical-align: middle;\n",
       "    }\n",
       "\n",
       "    .dataframe tbody tr th {\n",
       "        vertical-align: top;\n",
       "    }\n",
       "\n",
       "    .dataframe thead th {\n",
       "        text-align: right;\n",
       "    }\n",
       "</style>\n",
       "<table border=\"1\" class=\"dataframe\">\n",
       "  <thead>\n",
       "    <tr style=\"text-align: right;\">\n",
       "      <th></th>\n",
       "      <th>국어</th>\n",
       "      <th>영어</th>\n",
       "      <th>수학</th>\n",
       "    </tr>\n",
       "    <tr>\n",
       "      <th>번호</th>\n",
       "      <th></th>\n",
       "      <th></th>\n",
       "      <th></th>\n",
       "    </tr>\n",
       "  </thead>\n",
       "  <tbody>\n",
       "    <tr>\n",
       "      <th>2번</th>\n",
       "      <td>68</td>\n",
       "      <td>95</td>\n",
       "      <td>55</td>\n",
       "    </tr>\n",
       "    <tr>\n",
       "      <th>3번</th>\n",
       "      <td>90</td>\n",
       "      <td>100</td>\n",
       "      <td>95</td>\n",
       "    </tr>\n",
       "  </tbody>\n",
       "</table>\n",
       "</div>"
      ],
      "text/plain": [
       "    국어   영어  수학\n",
       "번호             \n",
       "2번  68   95  55\n",
       "3번  90  100  95"
      ]
     },
     "execution_count": 86,
     "metadata": {},
     "output_type": "execute_result"
    }
   ],
   "source": [
    "# 국어와 영어 둘 중 하나라도 80넘는 경우 \n",
    "cond = (kor > 80) | (eng > 80)\n",
    "raw[cond]"
   ]
  }
 ],
 "metadata": {
  "kernelspec": {
   "display_name": "Python 3 (ipykernel)",
   "language": "python",
   "name": "python3"
  },
  "language_info": {
   "codemirror_mode": {
    "name": "ipython",
    "version": 3
   },
   "file_extension": ".py",
   "mimetype": "text/x-python",
   "name": "python",
   "nbconvert_exporter": "python",
   "pygments_lexer": "ipython3",
   "version": "3.9.7"
  }
 },
 "nbformat": 4,
 "nbformat_minor": 5
}
