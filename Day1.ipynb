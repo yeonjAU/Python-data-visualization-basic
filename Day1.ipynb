{
 "cells": [
  {
   "cell_type": "markdown",
   "id": "1f196ca6",
   "metadata": {},
   "source": [
    "# 데이터 분석을 위한 파이썬 기초"
   ]
  },
  {
   "cell_type": "markdown",
   "id": "df378144",
   "metadata": {},
   "source": [
    "### 주피터 노트북 간단 설명\n",
    "#### a above\n",
    "#### b below\n",
    "#### dd 셀삭제\n",
    "#### # 내용 : 주석\n",
    "#### 여러 줄 주석처리 : 컨트롤 + /"
   ]
  },
  {
   "cell_type": "markdown",
   "id": "49bbf9da",
   "metadata": {},
   "source": [
    "## 자료형\n",
    "\n",
    "#### 변수 = 값/데이터"
   ]
  },
  {
   "cell_type": "markdown",
   "id": "54f1a276",
   "metadata": {},
   "source": [
    "### int, float"
   ]
  },
  {
   "cell_type": "code",
   "execution_count": 2,
   "id": "7920353d",
   "metadata": {
    "scrolled": false
   },
   "outputs": [
    {
     "name": "stdout",
     "output_type": "stream",
     "text": [
      "<class 'int'>\n"
     ]
    }
   ],
   "source": [
    "x = 15\n",
    "print(type(x))"
   ]
  },
  {
   "cell_type": "code",
   "execution_count": 3,
   "id": "25b00662",
   "metadata": {},
   "outputs": [
    {
     "name": "stdout",
     "output_type": "stream",
     "text": [
      "<class 'float'>\n"
     ]
    }
   ],
   "source": [
    "y = 9.5\n",
    "print(type(y))"
   ]
  },
  {
   "cell_type": "code",
   "execution_count": 4,
   "id": "bc8764ab",
   "metadata": {},
   "outputs": [
    {
     "name": "stdout",
     "output_type": "stream",
     "text": [
      "14\n",
      "4\n",
      "45\n",
      "1.8\n"
     ]
    }
   ],
   "source": [
    "a = 9\n",
    "b = 5\n",
    "\n",
    "print(a + b)\n",
    "print(a - b)\n",
    "print(a * b)\n",
    "print(a / b)"
   ]
  },
  {
   "cell_type": "code",
   "execution_count": 5,
   "id": "3cd40b8c",
   "metadata": {
    "scrolled": true
   },
   "outputs": [
    {
     "name": "stdout",
     "output_type": "stream",
     "text": [
      "1\n",
      "4\n"
     ]
    }
   ],
   "source": [
    "print(a // b) #몫\n",
    "print( a % b) #나머지"
   ]
  },
  {
   "cell_type": "markdown",
   "id": "622bb7bf",
   "metadata": {},
   "source": [
    "### str"
   ]
  },
  {
   "cell_type": "code",
   "execution_count": 6,
   "id": "9e218439",
   "metadata": {
    "scrolled": false
   },
   "outputs": [
    {
     "name": "stdout",
     "output_type": "stream",
     "text": [
      "<class 'str'>\n"
     ]
    }
   ],
   "source": [
    "s1 = \"가가\" #드래그하여 큰 따옴표 실행시 문자열 맨 앞, 뒤에 \"\"추가 가능\n",
    "print(type(s1))"
   ]
  },
  {
   "cell_type": "code",
   "execution_count": null,
   "id": "4fdaf749",
   "metadata": {},
   "outputs": [],
   "source": [
    "s2 = \"산\"\n",
    "s3 = \"토끼\"\n",
    "print(s2 + s3)"
   ]
  },
  {
   "cell_type": "markdown",
   "id": "59797ea4",
   "metadata": {},
   "source": [
    "### list\n",
    "#### list명 = [원소1, 원소2, 원소3, .... 원소n]"
   ]
  },
  {
   "cell_type": "code",
   "execution_count": 8,
   "id": "0e982c43",
   "metadata": {
    "scrolled": true
   },
   "outputs": [
    {
     "name": "stdout",
     "output_type": "stream",
     "text": [
      "[1, 2, 3, 4, 5]\n"
     ]
    }
   ],
   "source": [
    "li = [1, 2, 3, 4, 5]\n",
    "print(li)"
   ]
  },
  {
   "cell_type": "code",
   "execution_count": null,
   "id": "b499a2ab",
   "metadata": {},
   "outputs": [],
   "source": [
    "li = [1,2,3,5.5, \"빨강\", [1,2,3,4]]\n",
    "#리스트 안에는 정수, 소수, 문자열, 리스트가 원소로 들어갈 수 있다."
   ]
  },
  {
   "cell_type": "markdown",
   "id": "8dc87d75",
   "metadata": {},
   "source": [
    "### 리스트 인덱싱"
   ]
  },
  {
   "cell_type": "code",
   "execution_count": null,
   "id": "050f1aba",
   "metadata": {},
   "outputs": [],
   "source": [
    "li = ['가', '나', '다', '라', '마']\n",
    "     # 0     1     2     3     4\n",
    "    # -5    -4    -3    -2    -1\n",
    "print(li[2])\n",
    "print(li[-3])\n",
    "#리스트 인덱싱 가능하다"
   ]
  },
  {
   "cell_type": "markdown",
   "id": "466406d5",
   "metadata": {},
   "source": [
    "### 리스트 슬라이싱\n",
    "#### 리스트 이름[ 시작 인덱스 번호 : 마지막 인덱스 번호 + 1]\n"
   ]
  },
  {
   "cell_type": "code",
   "execution_count": null,
   "id": "73601326",
   "metadata": {},
   "outputs": [],
   "source": [
    "li = ['가', '나', '다', '라', '마']\n",
    "     # 0     1     2     3     4\n",
    "    # -5    -4    -3    -2    -1\n",
    "    \n",
    "#나,다,라 출력하기\n",
    "print(li[1:4])\n",
    "print(li[-4:4])\n",
    "print(li[-4:-1])\n",
    "print(li[1:-1])"
   ]
  },
  {
   "cell_type": "code",
   "execution_count": 9,
   "id": "d66d2b29",
   "metadata": {},
   "outputs": [
    {
     "name": "stdout",
     "output_type": "stream",
     "text": [
      "3\n"
     ]
    }
   ],
   "source": [
    "#len : 리스트의 원소의 개수 출력한다.\n",
    "print(len(\"문자열\"))"
   ]
  },
  {
   "cell_type": "markdown",
   "id": "2586e4a0",
   "metadata": {},
   "source": [
    "### 두개의 리스트 병합\n",
    "\n",
    "- + 를 사용하여 병합한다."
   ]
  },
  {
   "cell_type": "code",
   "execution_count": null,
   "id": "be8db63d",
   "metadata": {},
   "outputs": [],
   "source": [
    "li1 = ['사과', '감', '바나나', '파인애플']\n",
    "li2 = [1,3,5,7,9]\n",
    "print(li1 + li2)\n",
    "print(li2 + li1)\n",
    "#순서대로 병합된다.\n",
    "#리스트의 원본데이터는 변화가 없다.\n",
    "print(li1)\n",
    "print(li2)"
   ]
  },
  {
   "cell_type": "markdown",
   "id": "811c1d74",
   "metadata": {},
   "source": [
    "### 리스트.append()"
   ]
  },
  {
   "cell_type": "code",
   "execution_count": 11,
   "id": "03f01f66",
   "metadata": {},
   "outputs": [
    {
     "name": "stdout",
     "output_type": "stream",
     "text": [
      "['원숭이', '코끼리', '바나나', [2, 4, 6, 8, 10]]\n"
     ]
    }
   ],
   "source": [
    "li3 = [\"원숭이\", \"코끼리\", \"바나나\"]\n",
    "li4 = [2,4,6,8,10]\n",
    "li3.append(li4)\n",
    "print(li3)\n",
    "#리스트의 원본데이터의 변화가 발생"
   ]
  },
  {
   "cell_type": "markdown",
   "id": "e7b9c9a8",
   "metadata": {},
   "source": [
    "### 딕셔너리\n",
    "#### data = { '키값 ' :  '값' }\n",
    "#### data.keys() : data 속 키 값만 나옴\n",
    "#### data.values() : data 속 벨류값만 출력\n",
    "#### data. items() : data의 모든 데이터셋을 출력한다."
   ]
  },
  {
   "cell_type": "code",
   "execution_count": 12,
   "id": "5e6021e4",
   "metadata": {},
   "outputs": [],
   "source": [
    "data = {\n",
    "    '일자' : '2020-21-1',\n",
    "    '이름' : \"홍길동\",\n",
    "    '전화번호' : \"010-0000-1111\"\n",
    "}"
   ]
  },
  {
   "cell_type": "code",
   "execution_count": 13,
   "id": "5b17eda1",
   "metadata": {},
   "outputs": [
    {
     "name": "stdout",
     "output_type": "stream",
     "text": [
      "{'일자': '2020-21-1', '이름': '홍길동', '전화번호': '010-0000-1111'}\n",
      "dict_keys(['일자', '이름', '전화번호'])\n",
      "dict_values(['2020-21-1', '홍길동', '010-0000-1111'])\n",
      "dict_items([('일자', '2020-21-1'), ('이름', '홍길동'), ('전화번호', '010-0000-1111')])\n"
     ]
    }
   ],
   "source": [
    "print(data)\n",
    "print(data.keys())\n",
    "print(data.values())\n",
    "print(data.items())"
   ]
  },
  {
   "cell_type": "markdown",
   "id": "c553be68",
   "metadata": {},
   "source": [
    "#### 데이터의 키 값을 활용하여 값을 불러올 수 있다"
   ]
  },
  {
   "cell_type": "code",
   "execution_count": null,
   "id": "5894279e",
   "metadata": {},
   "outputs": [],
   "source": [
    "print(data['이름'])"
   ]
  },
  {
   "cell_type": "markdown",
   "id": "b29b588c",
   "metadata": {},
   "source": [
    "#### 데이터의 키 값을 활용하여 값을 추가할 수 있다."
   ]
  },
  {
   "cell_type": "code",
   "execution_count": null,
   "id": "de782d2f",
   "metadata": {},
   "outputs": [],
   "source": [
    "data['나이'] = 20\n",
    "print(data)"
   ]
  },
  {
   "cell_type": "markdown",
   "id": "9eeec144",
   "metadata": {},
   "source": [
    "## 파이썬 기본 문법"
   ]
  },
  {
   "cell_type": "markdown",
   "id": "518be6b0",
   "metadata": {},
   "source": [
    "### 반복문\n",
    "\n",
    "#### for 변수 in 그룹 :\n",
    "####     작업내용\n",
    "\n",
    "#### 반복문을 통해 그룹(리스트)에서 원소를 순서대로 하나씩 꺼내어 작업할 수 있습니다.\n",
    "#### 반복문이 실행되는 범위는 들여쓰기를 이용하여 표시합니다."
   ]
  },
  {
   "cell_type": "code",
   "execution_count": 14,
   "id": "13bb184d",
   "metadata": {},
   "outputs": [
    {
     "name": "stdout",
     "output_type": "stream",
     "text": [
      "바나나\n",
      "사과\n",
      "딸기\n",
      "배\n",
      "감\n"
     ]
    }
   ],
   "source": [
    "fruits = [\"바나나\", \"사과\", \"딸기\", \"배\", \"감\"]\n",
    "\n",
    "for fruit in fruits:\n",
    "    print(fruit)"
   ]
  },
  {
   "cell_type": "code",
   "execution_count": 15,
   "id": "8b7004a5",
   "metadata": {},
   "outputs": [
    {
     "name": "stdout",
     "output_type": "stream",
     "text": [
      "바나나\n",
      "1\n",
      "사과\n",
      "1\n",
      "딸기\n",
      "1\n",
      "배\n",
      "1\n",
      "감\n",
      "1\n"
     ]
    }
   ],
   "source": [
    "for fruit in fruits:\n",
    "    print(fruit)\n",
    "    print(1) #1이 반복마다 한번씩 출력된다."
   ]
  },
  {
   "cell_type": "markdown",
   "id": "4b3594fc",
   "metadata": {},
   "source": [
    "### 조건문\n",
    "- if 조건1:\n",
    "\n",
    "조건1이 True일 때 실행되는 코드\n",
    "- elif 조건2:\n",
    "\n",
    "조건1이 False이면서, 조건2가 True 일 경우 실행되는 코드\n",
    "- else:\n",
    "\n",
    "위 조건들이 모두 False 일때, 실행되는 코드"
   ]
  },
  {
   "cell_type": "markdown",
   "id": "f8e7c002",
   "metadata": {},
   "source": [
    "###### 조건에서 > < == 활용가능\n",
    "###### ex) A == B \"A와 B가 똑같은가?? \" \n",
    "###### cf)A = B >> A는 B이다 라는 의미"
   ]
  },
  {
   "cell_type": "code",
   "execution_count": null,
   "id": "9dbf85d5",
   "metadata": {},
   "outputs": [],
   "source": [
    "#홀, 짝을 판단하고 출력하는 프로그램 \n",
    "## 2로 나눠 나머지가 0인 경우 > 짝 , 나머지가 1인 경우 > 홀\n",
    "\n",
    "n = 20\n",
    "if n < 1:\n",
    "    print(\"1이상의 자연수를 입력해주세요.\")\n",
    "elif n % 2 == 0 :\n",
    "    print(\"짝수\")\n",
    "else n % 2 != 0:\n",
    "    print(\"홀수\")"
   ]
  },
  {
   "cell_type": "code",
   "execution_count": 16,
   "id": "e4b0ad73",
   "metadata": {},
   "outputs": [
    {
     "name": "stdout",
     "output_type": "stream",
     "text": [
      "b 가게가 더 많은 종류의 과일을 판매합니다.\n"
     ]
    }
   ],
   "source": [
    "# 부등호를 이용하여 크기 비교 가능\n",
    "shop_a = ['사과', \"배\", \"파인애플\"]\n",
    "shop_b = [\"딸기\", \"포도\", \"사과\", \"배\"]\n",
    "\n",
    "#어느 가게의 과일 종류가 더 많은가요?\n",
    "if len(shop_a) > len(shop_b):\n",
    "    print(\"a 가게가 더 많은 종류의 과일을 판매합니다.\")\n",
    "elif len(shop_a) < len(shop_b):\n",
    "    print(\"b 가게가 더 많은 종류의 과일을 판매합니다.\")\n",
    "else:\n",
    "    print(\"a와 b가 같다.\")"
   ]
  },
  {
   "cell_type": "markdown",
   "id": "0380b5dd",
   "metadata": {},
   "source": [
    "#### 특정 원소의 포함여부를 점검가능하다.\n",
    "#### 원소 in 리스트"
   ]
  },
  {
   "cell_type": "code",
   "execution_count": 17,
   "id": "7145b4e6",
   "metadata": {},
   "outputs": [
    {
     "name": "stdout",
     "output_type": "stream",
     "text": [
      "딸기 없어요\n",
      "포도 없어요\n"
     ]
    }
   ],
   "source": [
    "# \"딸기\"의 포함여부를 점검해주세요\n",
    "\n",
    "if \"딸기\" in shop_a:\n",
    "    print(\"딸기 있어요\")\n",
    "else:\n",
    "    print(\"딸기 없어요\")\n",
    "    \n",
    "#\"포도\"의 미판매 여부를 점검해주세요\n",
    "if \"포도\" not in shop_a:\n",
    "    print(\"포도 없어요\")"
   ]
  },
  {
   "cell_type": "markdown",
   "id": "e8fbebfb",
   "metadata": {},
   "source": [
    "### 일치여부\n",
    "#### ==, in 기호를 활용하여 같은지, 포함되는지 여부를 판단할 수 있습니다."
   ]
  },
  {
   "cell_type": "code",
   "execution_count": 18,
   "id": "9d5deca0",
   "metadata": {},
   "outputs": [],
   "source": [
    "a = \"태극기\"\n",
    "b = \"태극기가 바람에 펄럭입니다.\""
   ]
  },
  {
   "cell_type": "code",
   "execution_count": 19,
   "id": "b5cac6e6",
   "metadata": {},
   "outputs": [
    {
     "name": "stdout",
     "output_type": "stream",
     "text": [
      "a가 b안에 일부 포함됩니다.\n"
     ]
    }
   ],
   "source": [
    "# a,b 일치 ,일부 포함, 다르다 여부를 판단해주세요.\n",
    "\n",
    "if a == b:\n",
    "    print(\"a와 b가 일치합니다.\")\n",
    "elif a in b :\n",
    "    print(\"a가 b안에 일부 포함됩니다.\")\n",
    "else:\n",
    "    print(\"a와 b는 다릅니다.\")"
   ]
  },
  {
   "cell_type": "markdown",
   "id": "e5b0c8d5",
   "metadata": {},
   "source": [
    "### 문자열 포매팅\n",
    "#### : 문자열에서 변수를 표시하게 하는 것\n",
    "- f\"문자열{변수}\"\""
   ]
  },
  {
   "cell_type": "code",
   "execution_count": null,
   "id": "8c8eee82",
   "metadata": {},
   "outputs": [],
   "source": [
    "sentence = \"안녕하세요 홍길동님 만나서 반갑습니다.\"\n",
    "print(sentence)"
   ]
  },
  {
   "cell_type": "code",
   "execution_count": 23,
   "id": "a5718bf0",
   "metadata": {},
   "outputs": [
    {
     "name": "stdout",
     "output_type": "stream",
     "text": [
      "안녕하세요 홍길동님 만나서 반갑습니다.\n"
     ]
    }
   ],
   "source": [
    "name = \"홍길동\"\n",
    "\n",
    "sentence = f\"안녕하세요 {name}님 만나서 반갑습니다.\"\n",
    "print(sentence)"
   ]
  },
  {
   "cell_type": "code",
   "execution_count": 26,
   "id": "aa1d8f3e",
   "metadata": {},
   "outputs": [
    {
     "name": "stdout",
     "output_type": "stream",
     "text": [
      "오늘은 12월 25일 입니다.\n"
     ]
    }
   ],
   "source": [
    "#여러개의 변수를 포매팅을 통해 표현하는 방법\n",
    "\n",
    "month = \"12\"\n",
    "day = '25'\n",
    "\n",
    "#오늘은 ㅇㅇ월 ㅇㅇ일 입니다.\n",
    "sentence = f\"오늘은 {month}월 {day}일 입니다.\"\n",
    "print(sentence)"
   ]
  },
  {
   "cell_type": "markdown",
   "id": "c8663d79",
   "metadata": {},
   "source": [
    "### strip\n",
    "#### 문자열에서 문자열.strip()을 사용하여 문자열 시작부분과 끝 부분의\n",
    "#### 공백문자(줄바꿈/띄어쓰기/탭문자 등)을 제거할 수 있습니다."
   ]
  },
  {
   "cell_type": "code",
   "execution_count": 28,
   "id": "c31df359",
   "metadata": {},
   "outputs": [
    {
     "name": "stdout",
     "output_type": "stream",
     "text": [
      "\n",
      "\t 태극기가 바람에 펄럭입니다.\n",
      " 하늘 높이 하늘 높이 펄럭입니다.\n"
     ]
    }
   ],
   "source": [
    "#문자열에서 줄바꿈문자는 \\n으로, 탭문자는 \\t로 표현합니다.\n",
    "\n",
    "raw = '\\n\\t 태극기가 바람에 펄럭입니다.\\n 하늘 높이 하늘 높이 펄럭입니다.'\n",
    "print(raw)"
   ]
  },
  {
   "cell_type": "code",
   "execution_count": 29,
   "id": "2b78c5e7",
   "metadata": {},
   "outputs": [
    {
     "name": "stdout",
     "output_type": "stream",
     "text": [
      "태극기가 바람에 펄럭입니다.\n",
      " 하늘 높이 하늘 높이 펄럭입니다.\n"
     ]
    }
   ],
   "source": [
    "#strip을 이용하여 공백문자 제거하기\n",
    "raw_strip = raw.strip()\n",
    "print(raw_strip)"
   ]
  },
  {
   "cell_type": "markdown",
   "id": "6c8a5ea5",
   "metadata": {},
   "source": [
    "### replace(변경 전, 변경 후)\n",
    "#### 문자열.replace()를 통해 특정 문자열을 없애거나 변경할 수 있다.\n",
    "- ex)태극기를 전부 국기로 변경가능하다."
   ]
  },
  {
   "cell_type": "code",
   "execution_count": 30,
   "id": "b493e9be",
   "metadata": {},
   "outputs": [
    {
     "name": "stdout",
     "output_type": "stream",
     "text": [
      "국기가 바람에 펄럭입니다.\n",
      " 하늘 높이 하늘 높이 펄럭입니다.\n"
     ]
    }
   ],
   "source": [
    "raw_edit = raw_strip.replace(\"태극기\", \"국기\" )\n",
    "print(raw_edit)"
   ]
  },
  {
   "cell_type": "markdown",
   "id": "c2eaabe9",
   "metadata": {},
   "source": [
    "### split()\n",
    "- 특정 문자열을 기준으로 문자열을 나눌 수 있습니다.\n",
    "- split() 결과는 리스트 타입니다."
   ]
  },
  {
   "cell_type": "code",
   "execution_count": 34,
   "id": "4ab3c679",
   "metadata": {},
   "outputs": [
    {
     "name": "stdout",
     "output_type": "stream",
     "text": [
      "['미국 ', ' 중국 ', ' 일본 ', ' 러시아 ', ' 베트남 ', ' 태국']\n"
     ]
    }
   ],
   "source": [
    "data = \"미국 / 중국 / 일본 / 러시아 / 베트남 / 태국\"\n",
    "\n",
    "#\"/\"를 기준으로 데이터를 분할해주세요\n",
    "print(data.split(\"/\"))"
   ]
  },
  {
   "cell_type": "markdown",
   "id": "3dedd88d",
   "metadata": {},
   "source": [
    "### 함수 만들기\n",
    "- 반복적으로 사용하는 코드들에 이름을 붙여서 쉽게 사용할 수 있게 하는 것\n",
    "\n",
    "- 함수의 구조\n",
    "\n",
    "def 함수이름(변수1, 변수2, 변수3, ... ,변수n):\n",
    "    \n",
    "    실행내용1\n",
    "    \n",
    "    실행내용2\n",
    "    \n",
    "    실행내용3\n",
    "    \n",
    "    실행내용4\n",
    "    \n",
    "    return 실행결과"
   ]
  },
  {
   "cell_type": "code",
   "execution_count": 35,
   "id": "41bba0f8",
   "metadata": {},
   "outputs": [],
   "source": [
    "#두 수를 곱한 결과 텍스트를 반환하는(알려주는) 함수를 만들어 보겠습니다.\n",
    "#함수 이름은 gob()\n",
    "#코드에 이름을 붙이는 과정이지 계산을 실행하지는 않습니다.\n",
    "\n",
    "def gob(a, b):\n",
    "    \n",
    "    result = a * b\n",
    "    \n",
    "    return result"
   ]
  },
  {
   "cell_type": "code",
   "execution_count": 36,
   "id": "140b4c5e",
   "metadata": {},
   "outputs": [
    {
     "name": "stdout",
     "output_type": "stream",
     "text": [
      "10\n"
     ]
    }
   ],
   "source": [
    "a = 2\n",
    "b = 5\n",
    "\n",
    "result = gob(a, b)\n",
    "print(result)"
   ]
  },
  {
   "cell_type": "markdown",
   "id": "3a03fb66",
   "metadata": {},
   "source": [
    "## 실습: 구구단 출력하기\n",
    "\n",
    "#### 반복문, 포매팅, 함수 활용\n",
    "#### 2단 ~ 9단 구구단을 출력한다."
   ]
  },
  {
   "cell_type": "code",
   "execution_count": 43,
   "id": "98230cbe",
   "metadata": {
    "scrolled": true
   },
   "outputs": [
    {
     "name": "stdout",
     "output_type": "stream",
     "text": [
      "2 1 2\n",
      "2 2 4\n",
      "2 3 6\n",
      "2 4 8\n",
      "2 5 10\n",
      "2 6 12\n",
      "2 7 14\n",
      "2 8 16\n",
      "2 9 18\n",
      "2 10 20\n",
      "2 * 1 = 2\n",
      "2 * 2 = 4\n",
      "2 * 3 = 6\n",
      "2 * 4 = 8\n",
      "2 * 5 = 10\n",
      "2 * 6 = 12\n",
      "2 * 7 = 14\n",
      "2 * 8 = 16\n",
      "2 * 9 = 18\n",
      "2 * 10 = 20\n",
      "3 1 3\n",
      "3 2 6\n",
      "3 3 9\n",
      "3 4 12\n",
      "3 5 15\n",
      "3 6 18\n",
      "3 7 21\n",
      "3 8 24\n",
      "3 9 27\n",
      "3 10 30\n",
      "3 * 1 = 3\n",
      "3 * 2 = 6\n",
      "3 * 3 = 9\n",
      "3 * 4 = 12\n",
      "3 * 5 = 15\n",
      "3 * 6 = 18\n",
      "3 * 7 = 21\n",
      "3 * 8 = 24\n",
      "3 * 9 = 27\n",
      "3 * 10 = 30\n",
      "4 1 4\n",
      "4 2 8\n",
      "4 3 12\n",
      "4 4 16\n",
      "4 5 20\n",
      "4 6 24\n",
      "4 7 28\n",
      "4 8 32\n",
      "4 9 36\n",
      "4 10 40\n",
      "4 * 1 = 4\n",
      "4 * 2 = 8\n",
      "4 * 3 = 12\n",
      "4 * 4 = 16\n",
      "4 * 5 = 20\n",
      "4 * 6 = 24\n",
      "4 * 7 = 28\n",
      "4 * 8 = 32\n",
      "4 * 9 = 36\n",
      "4 * 10 = 40\n",
      "5 1 5\n",
      "5 2 10\n",
      "5 3 15\n",
      "5 4 20\n",
      "5 5 25\n",
      "5 6 30\n",
      "5 7 35\n",
      "5 8 40\n",
      "5 9 45\n",
      "5 10 50\n",
      "5 * 1 = 5\n",
      "5 * 2 = 10\n",
      "5 * 3 = 15\n",
      "5 * 4 = 20\n",
      "5 * 5 = 25\n",
      "5 * 6 = 30\n",
      "5 * 7 = 35\n",
      "5 * 8 = 40\n",
      "5 * 9 = 45\n",
      "5 * 10 = 50\n",
      "6 1 6\n",
      "6 2 12\n",
      "6 3 18\n",
      "6 4 24\n",
      "6 5 30\n",
      "6 6 36\n",
      "6 7 42\n",
      "6 8 48\n",
      "6 9 54\n",
      "6 10 60\n",
      "6 * 1 = 6\n",
      "6 * 2 = 12\n",
      "6 * 3 = 18\n",
      "6 * 4 = 24\n",
      "6 * 5 = 30\n",
      "6 * 6 = 36\n",
      "6 * 7 = 42\n",
      "6 * 8 = 48\n",
      "6 * 9 = 54\n",
      "6 * 10 = 60\n",
      "7 1 7\n",
      "7 2 14\n",
      "7 3 21\n",
      "7 4 28\n",
      "7 5 35\n",
      "7 6 42\n",
      "7 7 49\n",
      "7 8 56\n",
      "7 9 63\n",
      "7 10 70\n",
      "7 * 1 = 7\n",
      "7 * 2 = 14\n",
      "7 * 3 = 21\n",
      "7 * 4 = 28\n",
      "7 * 5 = 35\n",
      "7 * 6 = 42\n",
      "7 * 7 = 49\n",
      "7 * 8 = 56\n",
      "7 * 9 = 63\n",
      "7 * 10 = 70\n",
      "8 1 8\n",
      "8 2 16\n",
      "8 3 24\n",
      "8 4 32\n",
      "8 5 40\n",
      "8 6 48\n",
      "8 7 56\n",
      "8 8 64\n",
      "8 9 72\n",
      "8 10 80\n",
      "8 * 1 = 8\n",
      "8 * 2 = 16\n",
      "8 * 3 = 24\n",
      "8 * 4 = 32\n",
      "8 * 5 = 40\n",
      "8 * 6 = 48\n",
      "8 * 7 = 56\n",
      "8 * 8 = 64\n",
      "8 * 9 = 72\n",
      "8 * 10 = 80\n",
      "9 1 9\n",
      "9 2 18\n",
      "9 3 27\n",
      "9 4 36\n",
      "9 5 45\n",
      "9 6 54\n",
      "9 7 63\n",
      "9 8 72\n",
      "9 9 81\n",
      "9 10 90\n",
      "9 * 1 = 9\n",
      "9 * 2 = 18\n",
      "9 * 3 = 27\n",
      "9 * 4 = 36\n",
      "9 * 5 = 45\n",
      "9 * 6 = 54\n",
      "9 * 7 = 63\n",
      "9 * 8 = 72\n",
      "9 * 9 = 81\n",
      "9 * 10 = 90\n"
     ]
    }
   ],
   "source": [
    "a = 5\n",
    "#반복문 사용\n",
    "for a in range(2,10):\n",
    "    for b in range(1,11):\n",
    "        print(a,b, gob(a,b))\n",
    "\n",
    "    #반복문, 포매팅 사용\n",
    "    for b in range(1,11):\n",
    "        sentence = f\"{a} * {b} = {gob(a,b)}\"\n",
    "        print(sentence)"
   ]
  }
 ],
 "metadata": {
  "kernelspec": {
   "display_name": "Python 3 (ipykernel)",
   "language": "python",
   "name": "python3"
  },
  "language_info": {
   "codemirror_mode": {
    "name": "ipython",
    "version": 3
   },
   "file_extension": ".py",
   "mimetype": "text/x-python",
   "name": "python",
   "nbconvert_exporter": "python",
   "pygments_lexer": "ipython3",
   "version": "3.9.7"
  }
 },
 "nbformat": 4,
 "nbformat_minor": 5
}
